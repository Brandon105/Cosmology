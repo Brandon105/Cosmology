{
 "cells": [
  {
   "cell_type": "markdown",
   "id": "aa741f5b-0113-49e5-a18f-5684a5b80b94",
   "metadata": {},
   "source": [
    "# Preface"
   ]
  },
  {
   "cell_type": "markdown",
   "id": "b6a70dc2-e97e-4aaf-bce3-ba4f09a45033",
   "metadata": {},
   "source": [
    "This notebook contains quick examples to perform a simple clustering redshift analysis. "
   ]
  },
  {
   "cell_type": "markdown",
   "id": "a75bbc91-8a18-4ad9-875e-1251fbcae895",
   "metadata": {},
   "source": [
    "## Data to download"
   ]
  },
  {
   "cell_type": "markdown",
   "id": "2e1be13a-64ca-4c88-8fac-3059e4d9494f",
   "metadata": {},
   "source": [
    "[Massive Halos (\"spectroscopic sample\", 0.5GB)](https://www.dropbox.com/s/18doqrs1hnu3v6t/MICE2lightcone_halos_Mh13.5above_z0.35.fits?dl=0)\n",
    "\n",
    "[Less Massive Halos (\"photometric/GW sample\", 1.15GB)](https://www.dropbox.com/s/2l0xjlqlx838wpx/MICE2lightcone_gwhalos_Mh12.5_z0.35.fits?dl=0)\n",
    "\n",
    "[Radom catalog (2.5GB)](https://www.dropbox.com/s/mwr0a3a4f8hw72m/MICE2lightcone_rand_halos_Mh13.5above_z0.35.npy?dl=0)"
   ]
  },
  {
   "cell_type": "markdown",
   "id": "c9805c25-1b32-4353-9e49-b773b2649b0e",
   "metadata": {},
   "source": [
    "## Modules to install in advance"
   ]
  },
  {
   "cell_type": "markdown",
   "id": "c74193ce-7fcb-4ef0-a20f-920f77a058f7",
   "metadata": {},
   "source": [
    "The following modules/packages should be installed in advance.\n",
    "\n",
    "**astropy**\n",
    "\n",
    "**corrfunc**\n",
    "\n",
    "**halotools**\n",
    "\n",
    "**matplotlib**\n",
    "\n",
    "**numpy**\n",
    "\n",
    "**scipy**\n",
    "\n",
    "You may need **getpass**, **os** and **math** etc."
   ]
  },
  {
   "cell_type": "markdown",
   "id": "81e660fb-425a-4876-9391-c7ff1a1d2634",
   "metadata": {},
   "source": [
    "# Import Modules"
   ]
  },
  {
   "cell_type": "code",
   "execution_count": 111,
   "id": "598ed8a6-e2a6-4344-aa08-a8fed28d8cf3",
   "metadata": {
    "tags": []
   },
   "outputs": [],
   "source": [
    "import math\n",
    "import numpy as np\n",
    "import sys\n",
    "import time\n",
    "\n",
    "#3rd party modules\n",
    "from astropy import units as u\n",
    "from astropy.coordinates import SkyCoord\n",
    "from astropy.cosmology import FlatLambdaCDM\n",
    "from astropy.constants import c\n",
    "from astropy.io import fits\n",
    "import getpass\n",
    "from halotools.mock_observables import angular_tpcf\n",
    "from scipy import integrate, interpolate\n",
    "from scipy.stats import poisson\n",
    "if getpass.getuser()=='ssaito':\n",
    "    HOMEDIR = '/Users/ssaito/'\n",
    "elif getpass.getuser()=='shsaito':\n",
    "    HOMEDIR = '/Users/shsaito/'\n",
    "elif getpass.getuser()=='ssaito_mb':\n",
    "    HOMEDIR = '/Users/ssaito_mb/'\n",
    "    \n",
    "#Plot\n",
    "%matplotlib inline\n",
    "import matplotlib.pyplot as plt\n",
    "from matplotlib import cm, ticker, patches\n",
    "from matplotlib.ticker import MultipleLocator, FormatStrFormatter\n",
    "from matplotlib.colors import LogNorm\n",
    "from matplotlib.patches import Ellipse\n",
    "## default setting\n",
    "fig_width_pt = 900                     # Suited for LaTeX\n",
    "inches_per_pt = 1.0/72.27              # Convert pt to inch\n",
    "golden_mean = (math.sqrt(5)-1.0)/2.0   # Aesthetic ratio\n",
    "fig_width = fig_width_pt*inches_per_pt # width in inches\n",
    "fig_height = fig_width*golden_mean     # height in inches\n",
    "fig_size =  [fig_width,fig_height]\n",
    "params = {'backend': 'ps',\n",
    "          'axes.linewidth' : 2,\n",
    "          'legend.fontsize': 14,\n",
    "          'text.usetex'    : False,\n",
    "          'figure.figsize' : fig_size}\n",
    "dotseq = [2, 2]\n",
    "dashdotseq = [7, 4, 3, 4]\n",
    "plt.rcParams.update(params)\n",
    "\n",
    "def log_10_product(x, pos):\n",
    "    return '%1g' % (x)\n",
    "\n",
    "formatter = ticker.FuncFormatter(log_10_product)\n",
    "%config InlineBackend.figure_format = 'retina'"
   ]
  },
  {
   "cell_type": "markdown",
   "id": "0eed7321-22cc-4fa4-8920-f68d6d9cc60f",
   "metadata": {},
   "source": [
    "# Read the data catalogs"
   ]
  },
  {
   "cell_type": "markdown",
   "id": "244ea010-2367-4eda-b4b5-40f9b54df361",
   "metadata": {},
   "source": [
    "Let's first read the downloaded catalogs and make sure what's in there:\n",
    "\n",
    "(**Modify your PATH accordingly**)"
   ]
  },
  {
   "cell_type": "code",
   "execution_count": 112,
   "id": "7f68635f-e496-4962-b1e0-90dbc0c9eede",
   "metadata": {},
   "outputs": [
    {
     "name": "stdout",
     "output_type": "stream",
     "text": [
      "7804244\n",
      "18041259\n"
     ]
    }
   ],
   "source": [
    "halos = fits.open('MICE2lightcone_halos_Mh13.5above_z0.35.fits')[1].data\n",
    "print(halos.shape[0])\n",
    "\n",
    "gws = fits.open('MICE2lightcone_gwhalos_Mh12.5_z0.35.fits')[1].data\n",
    "print(gws.shape[0])\n",
    "\n",
    "rand_halos = np.load('MICE2lightcone_rand_halos_Mh13.5above_z0.35.npy')"
   ]
  },
  {
   "cell_type": "markdown",
   "id": "182172ab-0f04-4c3d-9c58-ab4ddb23b445",
   "metadata": {},
   "source": [
    "These catalogs are stored as **numpy record array**:"
   ]
  },
  {
   "cell_type": "code",
   "execution_count": 113,
   "id": "a6fcccad-fccc-4d99-bd58-f46a03d07eb0",
   "metadata": {
    "tags": []
   },
   "outputs": [
    {
     "data": {
      "text/plain": [
       "['unique_gal_id',\n",
       " 'unique_halo_id',\n",
       " 'ra_gal',\n",
       " 'dec_gal',\n",
       " 'z_cgal',\n",
       " 'cgal',\n",
       " 'z_cgal_v',\n",
       " 'cgal_v',\n",
       " 'flag_central',\n",
       " 'lmhalo']"
      ]
     },
     "execution_count": 113,
     "metadata": {},
     "output_type": "execute_result"
    }
   ],
   "source": [
    "halos.names"
   ]
  },
  {
   "cell_type": "code",
   "execution_count": 114,
   "id": "e82cf9ed-12df-41df-85bc-548d4f52307d",
   "metadata": {},
   "outputs": [
    {
     "data": {
      "text/plain": [
       "['unique_gal_id',\n",
       " 'unique_halo_id',\n",
       " 'ra_gal',\n",
       " 'dec_gal',\n",
       " 'z_cgal',\n",
       " 'cgal',\n",
       " 'z_cgal_v',\n",
       " 'cgal_v',\n",
       " 'flag_central',\n",
       " 'lmhalo']"
      ]
     },
     "execution_count": 114,
     "metadata": {},
     "output_type": "execute_result"
    }
   ],
   "source": [
    "gws.names"
   ]
  },
  {
   "cell_type": "code",
   "execution_count": 115,
   "id": "4c0a7d82-fe5d-427a-9e86-cd3d662fbe06",
   "metadata": {
    "tags": []
   },
   "outputs": [
    {
     "data": {
      "text/plain": [
       "('ra_gal', 'dec_gal', 'z_cgal', 'z_cgal_v')"
      ]
     },
     "execution_count": 115,
     "metadata": {},
     "output_type": "execute_result"
    }
   ],
   "source": [
    "rand_halos.dtype.names"
   ]
  },
  {
   "cell_type": "markdown",
   "id": "6b42b96a-3b90-4533-ba02-b587ef0c6a78",
   "metadata": {},
   "source": [
    "Most likely you would only use\n",
    "\n",
    "**ra_gal**: ra in units of degree  \n",
    "**dec_gal**: dec in units of degree   \n",
    "**z_cgal**: true cosmological redshift   \n",
    "**z_cgal_v**: redshift including the peculiar velocity   "
   ]
  },
  {
   "cell_type": "markdown",
   "id": "0d1fbed5-4dc3-4962-b7f0-10eae7513c2e",
   "metadata": {},
   "source": [
    "# Angular correlation function $w(\\theta)$"
   ]
  },
  {
   "cell_type": "markdown",
   "id": "e0236b43-8e26-4b04-a2cf-b3f117c8a6b1",
   "metadata": {},
   "source": [
    "You can compute $w(\\theta)$ using **halotools.angular_tpcf**.  \n",
    "Let's first select halos and gws in a narrow redshift range."
   ]
  },
  {
   "cell_type": "code",
   "execution_count": 116,
   "id": "243deb4a-c016-48b7-a126-ef8b46a7c900",
   "metadata": {},
   "outputs": [],
   "source": [
    "#compute luminosity distance versus z_red relation\n",
    "cp = FlatLambdaCDM(H0=70, Om0=0.25)\n",
    "\n",
    "numz = 501\n",
    "a_zred = np.array([iz/numz for iz in range(501)])\n",
    "a_dL = cp.luminosity_distance(a_zred).value\n",
    "\n",
    "func_zred_to_dL = interpolate.InterpolatedUnivariateSpline(a_zred, a_dL)\n",
    "func_dL_to_zred = interpolate.InterpolatedUnivariateSpline(a_dL, a_zred)"
   ]
  },
  {
   "cell_type": "code",
   "execution_count": 117,
   "id": "039e4248-2a17-4571-b1bf-888ea2e01559",
   "metadata": {
    "tags": []
   },
   "outputs": [
    {
     "name": "stdout",
     "output_type": "stream",
     "text": [
      "gw 0.321 <= z_red < 0.337\n",
      "mean gw z_red = 0.329\n",
      "# of selected gws = 100\n",
      "[ 727921 1139809 1095187 1130024 1165429  679950  358764 1085418 1190830\n",
      "  758522  262318 1071898  199946 1099481  509486 1009778  860152 1079479\n",
      "  369950  582134  599112  987322 1214051 1294248  607857  688581  163792\n",
      "  708839  910251  425602  345807   43526 1246821  809192  888169  911946\n",
      "  125055  109886 1294875  143626  732104  637198  887757  194384 1294545\n",
      "  727941  318257 1220425 1217949  340604  407997  687282  111483 1080022\n",
      " 1257973  536627  361109  777874 1043183   35988  907059 1239213  990612\n",
      "  181714  437389  243667 1132828  660180  693995  851231  587171 1250360\n",
      "  106273 1033916  136972   45151  723050  120859  577955  386402  951563\n",
      "  953244  754365 1219763  703203  620431  732143   58330 1255634  130528\n",
      "  291981  849622  679316  156724   11490 1305522  595190  804540 1157617\n",
      " 1217073]\n",
      "# of selected halos = 516661\n"
     ]
    }
   ],
   "source": [
    "zlow = func_dL_to_zred(1700)#originally at 1600\n",
    "zhigh = func_dL_to_zred(1800)\n",
    "\n",
    "#selected in redshift space\n",
    "mask = (gws['z_cgal_v']>=zlow) & (gws['z_cgal_v']<zhigh)\n",
    "print('gw {0:4.3f} <= z_red < {1:4.3f}'.format(zlow, zhigh))\n",
    "print('mean gw z_red = {0:4.3f}'.format(np.mean(gws[mask]['z_cgal_v'])))\n",
    "\n",
    "tmp_idx = np.random.randint(1, gws[mask].shape[0], size=100)      #np.random.randint(1, gws[mask].shape[0], 1)\n",
    "tmp_gws = gws[mask][tmp_idx]\n",
    "print('# of selected gws = {0}'.format(tmp_gws.shape[0]))\n",
    "print(tmp_idx)\n",
    "\n",
    "mask = (halos['z_cgal_v']>=zlow) & (halos['z_cgal_v']<zhigh)\n",
    "tmp_halos = halos[mask]\n",
    "print('# of selected halos = {0}'.format(tmp_halos.shape[0]))"
   ]
  },
  {
   "cell_type": "markdown",
   "id": "0d664faf-afe5-49f9-9a35-04f7229de44d",
   "metadata": {},
   "source": [
    "In this example, 1000 gws are randomly selected at 0.305 <= z_red < 0.337, while 1054845 halos are selected at the same redshift range. \n",
    "\n",
    "Now you can compute $w(\\theta)$ for these selected samples. First prepare a random distribution which follows the same survey geometry."
   ]
  },
  {
   "cell_type": "code",
   "execution_count": 118,
   "id": "49a55901-8950-42a6-8ff7-821119210f93",
   "metadata": {},
   "outputs": [
    {
     "name": "stdout",
     "output_type": "stream",
     "text": [
      "[0.69742596 0.71407436 0.61169751 ... 0.73467994 0.72030881 0.52866696]\n",
      "[0.68239249 0.6154116  0.73914759 ... 0.54134927 0.62663785 0.65562051]\n"
     ]
    }
   ],
   "source": [
    "#make randoms\n",
    "def make_random_radec(num_rand):\n",
    "    dtype_rand = np.dtype([('ra_gal', float), ('dec_gal', float)])\n",
    "    randoms = np.zeros(shape=(num_rand), dtype=dtype_rand)\n",
    "\n",
    "    #next assign (ra,dec)\n",
    "    RA_min, RA_max = 0, np.pi/2 #[radian]pi/2 originally\n",
    "    DEC_min, DEC_max = 0, np.pi/2 #[radian]pi/2 originally\n",
    "\n",
    "    ran1_min = RA_min/2/np.pi + 0.5\n",
    "    ran1_max = RA_max/2/np.pi + 0.5\n",
    "    ran2_min = 0.5*np.sin(np.pi/2 - DEC_min) + 0.5\n",
    "    ran2_max = 0.5*np.sin(np.pi/2 - DEC_max) + 0.5\n",
    "\n",
    "    ran1, ran2 = np.random.random(2*num_rand).reshape(2, -1)\n",
    "    ran_RA  = (ran1_max - ran1_min)*ran1 + ran1_min\n",
    "    ran_DEC = (ran2_max - ran2_min)*ran2 + ran2_min #this is actually theta = pi/2 - DEC\n",
    "\n",
    "    randoms['ra_gal'][:] = 2*np.pi*(ran_RA - 0.5)*180/np.pi #[degree]\n",
    "    randoms['dec_gal'][:] = np.arcsin(2*(ran_DEC-0.5))*180/np.pi #[degree]\n",
    "    print(ran_RA)\n",
    "    return randoms\n",
    "\n",
    "rand_gws = make_random_radec(50000)  #originally 50000\n",
    "rand_halos = make_random_radec(500000) #originally 500000\n",
    "\n"
   ]
  },
  {
   "cell_type": "code",
   "execution_count": 119,
   "id": "a7080130-52ae-4549-88f7-de8bf02c39b4",
   "metadata": {
    "tags": []
   },
   "outputs": [
    {
     "name": "stdout",
     "output_type": "stream",
     "text": [
      "[68.334231 74.383234 18.287651 ... 68.586058 64.641655 67.908186]\n"
     ]
    },
    {
     "ename": "ValueError",
     "evalue": "too many values to unpack (expected 3)",
     "output_type": "error",
     "traceback": [
      "\u001b[0;31m---------------------------------------------------------------------------\u001b[0m",
      "\u001b[0;31mValueError\u001b[0m                                Traceback (most recent call last)",
      "\u001b[0;32m<ipython-input-119-10db03d12073>\u001b[0m in \u001b[0;36m<module>\u001b[0;34m\u001b[0m\n\u001b[1;32m     26\u001b[0m \u001b[0;34m\u001b[0m\u001b[0m\n\u001b[1;32m     27\u001b[0m \u001b[0mran_ang_coords\u001b[0m \u001b[0;34m=\u001b[0m \u001b[0mnp\u001b[0m\u001b[0;34m.\u001b[0m\u001b[0mvstack\u001b[0m\u001b[0;34m(\u001b[0m\u001b[0;34m(\u001b[0m\u001b[0mrand_RA2\u001b[0m\u001b[0;34m,\u001b[0m\u001b[0mrand_DEC2\u001b[0m\u001b[0;34m)\u001b[0m\u001b[0;34m)\u001b[0m\u001b[0;34m.\u001b[0m\u001b[0mT\u001b[0m\u001b[0;34m\u001b[0m\u001b[0;34m\u001b[0m\u001b[0m\n\u001b[0;32m---> 28\u001b[0;31m \u001b[0mw_theta11\u001b[0m\u001b[0;34m,\u001b[0m \u001b[0mw_theta12\u001b[0m\u001b[0;34m,\u001b[0m \u001b[0mw_theta22\u001b[0m \u001b[0;34m=\u001b[0m \u001b[0mangular_tpcf\u001b[0m\u001b[0;34m(\u001b[0m\u001b[0mangular_coords2\u001b[0m\u001b[0;34m,\u001b[0m \u001b[0mtheta_bins\u001b[0m\u001b[0;34m,\u001b[0m \u001b[0msample2\u001b[0m\u001b[0;34m=\u001b[0m\u001b[0mangular_coords2\u001b[0m\u001b[0;34m,\u001b[0m \u001b[0mrandoms\u001b[0m\u001b[0;34m=\u001b[0m\u001b[0mran_ang_coords\u001b[0m\u001b[0;34m,\u001b[0m \u001b[0mnum_threads\u001b[0m\u001b[0;34m=\u001b[0m\u001b[0;34m'max'\u001b[0m\u001b[0;34m,\u001b[0m \u001b[0mdo_auto\u001b[0m\u001b[0;34m=\u001b[0m\u001b[0;32mTrue\u001b[0m\u001b[0;34m,\u001b[0m \u001b[0mdo_cross\u001b[0m\u001b[0;34m=\u001b[0m\u001b[0;32mTrue\u001b[0m\u001b[0;34m)\u001b[0m\u001b[0;34m\u001b[0m\u001b[0;34m\u001b[0m\u001b[0m\n\u001b[0m\u001b[1;32m     29\u001b[0m \u001b[0;31m#w_theta12 = angular_tpcf(angular_coords1, theta_bins, sample2=angular_coords2, num_threads='max' ,do_cross=True)\u001b[0m\u001b[0;34m\u001b[0m\u001b[0;34m\u001b[0m\u001b[0;34m\u001b[0m\u001b[0m\n\u001b[1;32m     30\u001b[0m \u001b[0mt_tmp\u001b[0m \u001b[0;34m=\u001b[0m \u001b[0mtime\u001b[0m\u001b[0;34m.\u001b[0m\u001b[0mtime\u001b[0m\u001b[0;34m(\u001b[0m\u001b[0;34m)\u001b[0m \u001b[0;34m-\u001b[0m \u001b[0mt_s\u001b[0m\u001b[0;34m\u001b[0m\u001b[0;34m\u001b[0m\u001b[0m\n",
      "\u001b[0;31mValueError\u001b[0m: too many values to unpack (expected 3)"
     ]
    }
   ],
   "source": [
    "theta_bins = np.logspace(-2,0.5,15)\n",
    "cen_theta_bins = (theta_bins[:-1]+theta_bins[1:])/2.0\n",
    "\n",
    "tmp_halos = tmp_halos[(tmp_halos['ra_gal']>0) & (tmp_halos['dec_gal']>0)]\n",
    "RA1 = tmp_halos['ra_gal'][:]\n",
    "DEC1 = -tmp_halos['dec_gal'][:] + 90\n",
    "N1 = DEC1.shape[0]\n",
    "rand_RA1 = rand_halos['ra_gal'][:]\n",
    "rand_DEC1 = -rand_halos['dec_gal'][:] + 90\n",
    "rand_N1 = rand_DEC1.shape[0]\n",
    "print(RA1)\n",
    "\n",
    "tmp_gws = tmp_gws[(tmp_gws['ra_gal']>0) & (tmp_gws['dec_gal']>0)]\n",
    "RA2 = tmp_gws['ra_gal'][:]\n",
    "DEC2 = -tmp_gws['dec_gal'][:] + 90\n",
    "N2 = DEC2.shape[0]\n",
    "rand_RA2 = rand_gws['ra_gal'][:]\n",
    "rand_DEC2 = -rand_gws['dec_gal'][:] + 90\n",
    "rand_N2 = rand_DEC2.shape[0]\n",
    "\n",
    "\n",
    "#print(N1,N2,rand_N2)\n",
    "t_s = time.time()\n",
    "angular_coords1 = np.vstack((RA1,DEC1)).T\n",
    "angular_coords2 = np.vstack((RA2,DEC2)).T\n",
    "\n",
    "ran_ang_coords = np.vstack((rand_RA2,rand_DEC2)).T\n",
    "w_theta11, w_theta12, w_theta22 = angular_tpcf(angular_coords2, theta_bins, sample2=angular_coords2, randoms=ran_ang_coords, num_threads='max', do_auto=True, do_cross=True)\n",
    "#w_theta12 = angular_tpcf(angular_coords1, theta_bins, sample2=angular_coords2, num_threads='max' ,do_cross=True)\n",
    "t_tmp = time.time() - t_s\n",
    "print('computation took {0} seconds'.format(t_tmp))\n",
    "print(w_theta12)"
   ]
  },
  {
   "cell_type": "code",
   "execution_count": null,
   "id": "fe03c967-2499-4ecd-802e-3f99d7c81da3",
   "metadata": {
    "tags": []
   },
   "outputs": [],
   "source": [
    "plt.plot(cen_theta_bins,w_theta22,'-', color='green',\n",
    "         label = r'halos')\n",
    "plt.plot(cen_theta_bins,w_theta12,'-', color='magenta',\n",
    "         label = r'cross')\n",
    "plt.plot(cen_theta_bins,w_theta11,'-', color='k',\n",
    "         label = r'gw')\n",
    "plt.loglog()\n",
    "plt.ylabel(r'$w_{\\theta}$', fontsize=20)\n",
    "plt.xlabel(r'$\\theta$  $[{\\rm degrees}]$', fontsize=20)\n",
    "plt.xticks(size=15)\n",
    "plt.yticks(size=15)\n",
    "plt.title('Angular correlation function', fontsize=20)\n",
    "plt.legend(loc='best', fontsize=20)\n",
    "plt.savefig(\"OneGWS_LowRaDec_HighZRange\")\n",
    "\n",
    "#add a circle on the sky around the gws to wash out the clustering effects"
   ]
  },
  {
   "cell_type": "code",
   "execution_count": null,
   "id": "ef4ffdc6-a7e2-446f-893b-5ae50ea89679",
   "metadata": {},
   "outputs": [],
   "source": []
  },
  {
   "cell_type": "code",
   "execution_count": null,
   "id": "9d5bf84f-e9e7-4bb2-a63b-89f143ffade5",
   "metadata": {},
   "outputs": [],
   "source": []
  },
  {
   "cell_type": "code",
   "execution_count": null,
   "id": "9bd01e1a-acae-4a2e-bf28-d0046d4c8105",
   "metadata": {},
   "outputs": [],
   "source": []
  }
 ],
 "metadata": {
  "kernelspec": {
   "display_name": "Python 3",
   "language": "python",
   "name": "python3"
  },
  "language_info": {
   "codemirror_mode": {
    "name": "ipython",
    "version": 3
   },
   "file_extension": ".py",
   "mimetype": "text/x-python",
   "name": "python",
   "nbconvert_exporter": "python",
   "pygments_lexer": "ipython3",
   "version": "3.8.8"
  }
 },
 "nbformat": 4,
 "nbformat_minor": 5
}

{
 "cells": [
  {
   "cell_type": "code",
   "execution_count": 18,
   "id": "4c8fc92d-95d9-40f6-976a-34396959597e",
   "metadata": {},
   "outputs": [],
   "source": [
    "import math\n",
    "import numpy as np\n",
    "import healpy as hp\n",
    "import sys\n",
    "import time\n",
    "\n",
    "#3rd party modules\n",
    "from astropy.stats import jackknife_resampling\n",
    "from astropy.stats import jackknife_stats\n",
    "from astropy import units as u\n",
    "from astropy.coordinates import SkyCoord\n",
    "from astropy.cosmology import FlatLambdaCDM\n",
    "from astropy.constants import c\n",
    "from astropy.io import fits\n",
    "import getpass\n",
    "from halotools.mock_observables import angular_tpcf\n",
    "from scipy import integrate, interpolate\n",
    "from scipy.stats import poisson\n",
    "    \n",
    "#Plot\n",
    "%matplotlib inline\n",
    "import matplotlib.pyplot as plt\n",
    "from matplotlib import cm, ticker, patches\n",
    "from matplotlib.ticker import MultipleLocator, FormatStrFormatter\n",
    "from matplotlib.colors import LogNorm\n",
    "from matplotlib.patches import Ellipse\n",
    "## default setting\n",
    "fig_width_pt = 900                     # Suited for LaTeX\n",
    "inches_per_pt = 1.0/72.27              # Convert pt to inch\n",
    "golden_mean = (math.sqrt(5)-1.0)/2.0   # Aesthetic ratio\n",
    "fig_width = fig_width_pt*inches_per_pt # width in inches\n",
    "fig_height = fig_width*golden_mean     # height in inches\n",
    "fig_size =  [fig_width,fig_height]\n",
    "params = {'backend': 'ps',\n",
    "          'axes.linewidth' : 2,\n",
    "          'legend.fontsize': 14,\n",
    "          'text.usetex'    : False,\n",
    "          'figure.figsize' : fig_size}\n",
    "dotseq = [2, 2]\n",
    "dashdotseq = [7, 4, 3, 4]\n",
    "plt.rcParams.update(params)\n",
    "\n",
    "def log_10_product(x, pos):\n",
    "    return '%1g' % (x)\n",
    "\n",
    "formatter = ticker.FuncFormatter(log_10_product)\n",
    "%config InlineBackend.figure_format = 'retina'"
   ]
  },
  {
   "cell_type": "code",
   "execution_count": 19,
   "id": "d57f4d3b-d5cc-46bf-8e09-5a4ff642acfd",
   "metadata": {},
   "outputs": [
    {
     "name": "stdout",
     "output_type": "stream",
     "text": [
      "7804244\n",
      "[0.16337 0.30527 0.33748 ... 0.16761 0.1341  0.12919]\n",
      "18041259\n"
     ]
    }
   ],
   "source": [
    "#Reading in the data\n",
    "\n",
    "halos = fits.open('MICE2lightcone_halos_Mh13.5above_z0.35.fits')[1].data\n",
    "print(halos.shape[0])\n",
    "print(halos['z_cgal_v'])\n",
    "\n",
    "gws = fits.open('MICE2lightcone_gwhalos_Mh12.5_z0.35.fits')[1].data\n",
    "print(gws.shape[0])\n",
    "\n",
    "rand_halos = np.load('MICE2lightcone_rand_halos_Mh13.5above_z0.35.npy')"
   ]
  },
  {
   "cell_type": "code",
   "execution_count": 20,
   "id": "63db4168-e924-485e-a591-29a2bf3521e4",
   "metadata": {},
   "outputs": [],
   "source": [
    "#compute luminosity distance versus z_red relation\n",
    "cp = FlatLambdaCDM(H0=70, Om0=0.25)\n",
    "\n",
    "numz = 501\n",
    "a_zred = np.array([iz/numz for iz in range(501)])\n",
    "a_dL = cp.luminosity_distance(a_zred).value\n",
    "\n",
    "func_zred_to_dL = interpolate.InterpolatedUnivariateSpline(a_zred, a_dL)\n",
    "func_dL_to_zred = interpolate.InterpolatedUnivariateSpline(a_dL, a_zred)"
   ]
  },
  {
   "cell_type": "code",
   "execution_count": 21,
   "id": "57ab04ab-f34d-492a-a567-a20fc5a338d4",
   "metadata": {},
   "outputs": [
    {
     "name": "stdout",
     "output_type": "stream",
     "text": [
      "gw 0.045 <= z_red < 0.087\n",
      "mean gw z_red = 0.080\n",
      "# of selected gws = 5100\n"
     ]
    }
   ],
   "source": [
    "zlow = func_dL_to_zred(200)#originally at 1600\n",
    "zhigh = func_dL_to_zred(400)\n",
    "\n",
    "#selected in redshift space\n",
    "mask = (gws['z_cgal_v']>=zlow) & (gws['z_cgal_v']<zhigh)\n",
    "print('gw {0:4.3f} <= z_red < {1:4.3f}'.format(zlow, zhigh))\n",
    "print('mean gw z_red = {0:4.3f}'.format(np.mean(gws[mask]['z_cgal_v'])))\n",
    "\n",
    "tmp_idx = np.random.randint(1, gws[mask].shape[0], size=5100)\n",
    "tmp_gws = gws[mask][tmp_idx]\n",
    "print('# of selected gws = {0}'.format(tmp_gws.shape[0]))\n",
    "#print('# of selected halos = {0}'.format(tmp_halos.shape[0]))"
   ]
  },
  {
   "cell_type": "code",
   "execution_count": 22,
   "id": "658726a7-f8b4-48ae-8f6a-153251bac6f1",
   "metadata": {},
   "outputs": [
    {
     "ename": "NameError",
     "evalue": "name 'w_theta12' is not defined",
     "output_type": "error",
     "traceback": [
      "\u001b[0;31m---------------------------------------------------------------------------\u001b[0m",
      "\u001b[0;31mNameError\u001b[0m                                 Traceback (most recent call last)",
      "\u001b[0;32m<ipython-input-22-083d2f4ad0c5>\u001b[0m in \u001b[0;36m<module>\u001b[0;34m\u001b[0m\n\u001b[1;32m     67\u001b[0m         \u001b[0msum_x\u001b[0m \u001b[0;34m=\u001b[0m \u001b[0;36m0\u001b[0m\u001b[0;34m\u001b[0m\u001b[0;34m\u001b[0m\u001b[0m\n\u001b[1;32m     68\u001b[0m         \u001b[0msum_y\u001b[0m \u001b[0;34m=\u001b[0m \u001b[0;36m0\u001b[0m\u001b[0;34m\u001b[0m\u001b[0;34m\u001b[0m\u001b[0m\n\u001b[0;32m---> 69\u001b[0;31m         \u001b[0msum_x\u001b[0m \u001b[0;34m+=\u001b[0m \u001b[0mw_theta12\u001b[0m\u001b[0;34m[\u001b[0m\u001b[0mn\u001b[0m\u001b[0;34m]\u001b[0m\u001b[0;34m\u001b[0m\u001b[0;34m\u001b[0m\u001b[0m\n\u001b[0m\u001b[1;32m     70\u001b[0m         \u001b[0msum_y\u001b[0m \u001b[0;34m+=\u001b[0m \u001b[0mw_theta12\u001b[0m\u001b[0;34m[\u001b[0m\u001b[0mn\u001b[0m\u001b[0;34m]\u001b[0m\u001b[0;34m*\u001b[0m\u001b[0;34m(\u001b[0m\u001b[0;36m2\u001b[0m\u001b[0;34m*\u001b[0m\u001b[0mnp\u001b[0m\u001b[0;34m.\u001b[0m\u001b[0mpi\u001b[0m\u001b[0;34m*\u001b[0m\u001b[0mtheta_bins\u001b[0m\u001b[0;34m[\u001b[0m\u001b[0mn\u001b[0m\u001b[0;34m]\u001b[0m\u001b[0;34m*\u001b[0m\u001b[0;34m(\u001b[0m\u001b[0mtheta_bins\u001b[0m\u001b[0;34m[\u001b[0m\u001b[0mn\u001b[0m\u001b[0;34m+\u001b[0m\u001b[0;36m1\u001b[0m\u001b[0;34m]\u001b[0m\u001b[0;34m-\u001b[0m\u001b[0mtheta_bins\u001b[0m\u001b[0;34m[\u001b[0m\u001b[0mn\u001b[0m\u001b[0;34m]\u001b[0m\u001b[0;34m)\u001b[0m\u001b[0;34m)\u001b[0m\u001b[0;34m\u001b[0m\u001b[0;34m\u001b[0m\u001b[0m\n\u001b[1;32m     71\u001b[0m \u001b[0;34m\u001b[0m\u001b[0m\n",
      "\u001b[0;31mNameError\u001b[0m: name 'w_theta12' is not defined"
     ]
    },
    {
     "data": {
      "image/png": "[encoded data removed]",
      "text/plain": [
       "<Figure size 896.638x554.153 with 4 Axes>"
      ]
     },
     "metadata": {
      "image/png": {
       "height": 453,
       "width": 740
      },
      "needs_background": "light"
     },
     "output_type": "display_data"
    }
   ],
   "source": [
    "#creating the theta bins for TPCF\n",
    "theta_bins = np.arange(.001,.031,.001)\n",
    "cen_theta_bins = (theta_bins[:-1]+theta_bins[1:])/2.0\n",
    "#print(\"The theta bins:\", theta_bins)\n",
    "\n",
    "\n",
    "test_statistic = np.mean\n",
    "\n",
    "#creating the randoms for the TPCF\n",
    "def make_random_radec(num_rand):\n",
    "    dtype_rand = np.dtype([('ra_gal', float), ('dec_gal', float)])\n",
    "    randoms = np.zeros(shape=(num_rand), dtype=dtype_rand)\n",
    "\n",
    "    #next assign (ra,dec)\n",
    "    RA_min, RA_max = 0, np.pi/2 #[radian]pi/2 originally\n",
    "    DEC_min, DEC_max = 0, np.pi/2 #[radian]pi/2 originally\n",
    "\n",
    "    ran1_min = RA_min/2/np.pi + 0.5\n",
    "    ran1_max = RA_max/2/np.pi + 0.5\n",
    "    ran2_min = 0.5*np.sin(np.pi/2 - DEC_min) + 0.5\n",
    "    ran2_max = 0.5*np.sin(np.pi/2 - DEC_max) + 0.5\n",
    "\n",
    "    ran1, ran2 = np.random.random(2*num_rand).reshape(2, -1)\n",
    "    ran_RA  = (ran1_max - ran1_min)*ran1 + ran1_min\n",
    "    ran_DEC = (ran2_max - ran2_min)*ran2 + ran2_min #this is actually theta = pi/2 - DEC\n",
    "\n",
    "    randoms['ra_gal'][:] = 2*np.pi*(ran_RA - 0.5)*180/np.pi #[degree]\n",
    "    randoms['dec_gal'][:] = np.arcsin(2*(ran_DEC-0.5))*180/np.pi #[degree]\n",
    "    #print(ran_RA)\n",
    "    return randoms\n",
    "\n",
    "rand_gws = make_random_radec(5000000)\n",
    "rand_halos = make_random_radec(5000000)\n",
    "rand_RA2 = rand_gws['ra_gal'][:]\n",
    "rand_DEC2 = -rand_gws['dec_gal'][:] + 90\n",
    "rand_N2 = rand_DEC2.shape[0]\n",
    "rand_ang_coords = np.vstack((rand_RA2,rand_DEC2)).T\n",
    "\n",
    "tmp_gws = tmp_gws[(tmp_gws['ra_gal']>0) & (tmp_gws['dec_gal']>0)]\n",
    "RA2 = tmp_gws['ra_gal'][:]\n",
    "DEC2 = -tmp_gws['dec_gal'][:] + 90\n",
    "N2 = DEC2.shape[0]\n",
    "\n",
    "t_s = time.time()\n",
    "angular_coords2 = np.vstack((RA2,DEC2)).T\n",
    "\n",
    "mean_y1 = []\n",
    "mean_x1 = []\n",
    "\n",
    "fig, axis = plt.subplots(2,2)\n",
    "\n",
    "for redshift in np.arange(0.07,0.37,0.015):\n",
    "    halos_mask = (halos['z_cgal_v']>=(redshift-.015)) & (halos['z_cgal_v']<redshift)\n",
    "    tmp_halos = halos[halos_mask]\n",
    "    tmp_halos = tmp_halos[(tmp_halos['ra_gal']>0) & (tmp_halos['dec_gal']>0)]\n",
    "    RA1 = tmp_halos['ra_gal'][:]\n",
    "    DEC1 = -tmp_halos['dec_gal'][:] + 90\n",
    "    angular_coords1 = np.vstack((RA1,DEC1)).T\n",
    "\n",
    "     \n",
    "    \n",
    "    ###################### VERY COOL AND GOOD TPCF ####################\n",
    "    #w_theta12 = angular_tpcf(angular_coords1, theta_bins, sample2=angular_coords2, randoms=rand_ang_coords, num_threads='max', do_auto=False, do_cross=True)\n",
    "    \n",
    "    ###################### WEIGHTED AVERAGE ###########################\n",
    "    for n in range(29):\n",
    "        sum_x = 0\n",
    "        sum_y = 0\n",
    "        sum_x += w_theta12[n]\n",
    "        sum_y += w_theta12[n]*(2*np.pi*theta_bins[n]*(theta_bins[n+1]-theta_bins[n]))\n",
    "        \n",
    "    mean_x = sum_x/.03\n",
    "    mean_y = sum_y/(2*np.pi*theta_bins[29])\n",
    "    #estimate, bias, stderr, conf_interval = jackknife_stats(w_theta12, test_statistic, 0.95)\n",
    "    mean_x1.append(mean_x)\n",
    "    mean_y1.append(mean_y)\n",
    "    np.vstack(mean_x1)\n",
    "    np.vstack(mean_y1)\n",
    "    \n",
    "    \n",
    "    ###################### PLOT EVERYTHING ############################\n",
    "    axis[0,0].plot(cen_theta_bins,w_theta12,'-', color='green',\n",
    "         label = r'cross_corr')\n",
    "    axis[0,0].set_ylabel(r'$w_{\\theta}$', fontsize=20)\n",
    "    axis[0,0].set_xlabel(r'$\\theta$  $[{\\rm degrees}]$')\n",
    "    axis[0,0].set_title('Angular correlation function')\n",
    "\n",
    "axis[0,1].plot(np.arange(0.07,0.37,0.015),mean_x1)\n",
    "axis[0,1].set_title(r'mean $w_{\\theta}$')\n",
    "axis[0,1].set_xlabel('z')\n",
    "axis[1,1].plot(np.arange(0.07,0.37,0.015),mean_y1)\n",
    "axis[1,1].set_title(r'mean $\\theta$')\n",
    "axis[0,1].set_xlabel('z')\n",
    "t_tmp = time.time() - t_s\n",
    "print('computation took {0} seconds'.format(t_tmp))"
   ]
  },
  {
   "cell_type": "code",
   "execution_count": null,
   "id": "88068b7f-e54c-49e9-97bc-8f4ea6236aff",
   "metadata": {},
   "outputs": [],
   "source": [
    "#creating the jackknife estimator\n",
    "#sum_y += w_theta12[n]*(2*np.pi*theta_bins[n]*(theta_bins[n+1]-theta_bins[n]))\n",
    "#mean_y = sum_y/(2*np.pi*theta_bins[29])\n",
    "\n",
    "#may be able to use the jackknife resampling from astropy\n",
    "\n",
    "N = 90                     #number of sub spaces\n",
    "Variance = sigma**2\n",
    "#do the angular_tpcf somewhere out here for each pixel\n",
    "\n",
    "def find_mean(i):\n",
    "    theta_1 = pixels[i]\n",
    "    theta_1_rest = resampling[i]\n",
    "    theta_2 = pixels[i+1]\n",
    "    theta_2_rest = resampling[i+1]\n",
    "    for n in range(29):\n",
    "        sum_y = 0\n",
    "        sum_y += w_theta12[n]*(2*np.pi*theta_bins[n]*(theta_bins[n+1]-theta_bins[n]))\n",
    "    mean_y = sum_y/(2*np.pi*theta_bins[29])\n",
    "    \n",
    "    return theta_1_mean, theta_2_mean\n",
    "\n",
    "\n",
    "def find_sigma():\n",
    "    theta_1 = pixels[i]\n",
    "    theta_2 = pixels[i+1]\n",
    "    sigma = 1/(N-1) * sigma_sum\n",
    "    sigma_sum = (theta_1 - theta_1_mean)*(theta_2 - theta_2_mean)\n",
    "    \n",
    "    \n",
    "    return sigma\n"
   ]
  },
  {
   "cell_type": "code",
   "execution_count": 32,
   "id": "71cabb52-a5a1-49ae-bd27-101ad6752a03",
   "metadata": {},
   "outputs": [
    {
     "name": "stdout",
     "output_type": "stream",
     "text": [
      "1.902601860011511\n"
     ]
    },
    {
     "ename": "ValueError",
     "evalue": "all the input arrays must have same number of dimensions, but the array at index 0 has 1 dimension(s) and the array at index 1 has 2 dimension(s)",
     "output_type": "error",
     "traceback": [
      "\u001b[0;31m---------------------------------------------------------------------------\u001b[0m",
      "\u001b[0;31mValueError\u001b[0m                                Traceback (most recent call last)",
      "\u001b[0;32m<ipython-input-32-a78a52b77d08>\u001b[0m in \u001b[0;36m<module>\u001b[0;34m\u001b[0m\n\u001b[1;32m     30\u001b[0m     \u001b[0mz\u001b[0m \u001b[0;34m=\u001b[0m \u001b[0mnp\u001b[0m\u001b[0;34m.\u001b[0m\u001b[0mwhere\u001b[0m\u001b[0;34m(\u001b[0m\u001b[0mpixels_rands\u001b[0m \u001b[0;34m==\u001b[0m \u001b[0mi\u001b[0m\u001b[0;34m)\u001b[0m\u001b[0;34m\u001b[0m\u001b[0;34m\u001b[0m\u001b[0m\n\u001b[1;32m     31\u001b[0m     \u001b[0;32mif\u001b[0m \u001b[0mnp\u001b[0m\u001b[0;34m.\u001b[0m\u001b[0msize\u001b[0m\u001b[0;34m(\u001b[0m\u001b[0mx\u001b[0m\u001b[0;34m)\u001b[0m\u001b[0;34m>\u001b[0m\u001b[0;36m0\u001b[0m\u001b[0;34m:\u001b[0m\u001b[0;34m\u001b[0m\u001b[0;34m\u001b[0m\u001b[0m\n\u001b[0;32m---> 32\u001b[0;31m         \u001b[0mpixelated_halos\u001b[0m \u001b[0;34m=\u001b[0m \u001b[0mnp\u001b[0m\u001b[0;34m.\u001b[0m\u001b[0mappend\u001b[0m\u001b[0;34m(\u001b[0m\u001b[0mpixelated_halos\u001b[0m\u001b[0;34m,\u001b[0m\u001b[0mx\u001b[0m\u001b[0;34m,\u001b[0m\u001b[0mi\u001b[0m\u001b[0;34m)\u001b[0m\u001b[0;34m\u001b[0m\u001b[0;34m\u001b[0m\u001b[0m\n\u001b[0m\u001b[1;32m     33\u001b[0m     \u001b[0;32melif\u001b[0m \u001b[0mnp\u001b[0m\u001b[0;34m.\u001b[0m\u001b[0msize\u001b[0m\u001b[0;34m(\u001b[0m\u001b[0mx\u001b[0m\u001b[0;34m)\u001b[0m\u001b[0;34m==\u001b[0m\u001b[0;36m0\u001b[0m\u001b[0;34m:\u001b[0m\u001b[0;34m\u001b[0m\u001b[0;34m\u001b[0m\u001b[0m\n\u001b[1;32m     34\u001b[0m         \u001b[0mpixelated_halos\u001b[0m \u001b[0;34m=\u001b[0m \u001b[0mnp\u001b[0m\u001b[0;34m.\u001b[0m\u001b[0mappend\u001b[0m\u001b[0;34m(\u001b[0m\u001b[0mpixelated_halos\u001b[0m\u001b[0;34m,\u001b[0m\u001b[0;36m0\u001b[0m\u001b[0;34m,\u001b[0m\u001b[0mi\u001b[0m\u001b[0;34m)\u001b[0m\u001b[0;34m\u001b[0m\u001b[0;34m\u001b[0m\u001b[0m\n",
      "\u001b[0;32m<__array_function__ internals>\u001b[0m in \u001b[0;36mappend\u001b[0;34m(*args, **kwargs)\u001b[0m\n",
      "\u001b[0;32m~/.local/lib/python3.8/site-packages/numpy/lib/function_base.py\u001b[0m in \u001b[0;36mappend\u001b[0;34m(arr, values, axis)\u001b[0m\n\u001b[1;32m   4815\u001b[0m         \u001b[0mvalues\u001b[0m \u001b[0;34m=\u001b[0m \u001b[0mravel\u001b[0m\u001b[0;34m(\u001b[0m\u001b[0mvalues\u001b[0m\u001b[0;34m)\u001b[0m\u001b[0;34m\u001b[0m\u001b[0;34m\u001b[0m\u001b[0m\n\u001b[1;32m   4816\u001b[0m         \u001b[0maxis\u001b[0m \u001b[0;34m=\u001b[0m \u001b[0marr\u001b[0m\u001b[0;34m.\u001b[0m\u001b[0mndim\u001b[0m\u001b[0;34m-\u001b[0m\u001b[0;36m1\u001b[0m\u001b[0;34m\u001b[0m\u001b[0;34m\u001b[0m\u001b[0m\n\u001b[0;32m-> 4817\u001b[0;31m     \u001b[0;32mreturn\u001b[0m \u001b[0mconcatenate\u001b[0m\u001b[0;34m(\u001b[0m\u001b[0;34m(\u001b[0m\u001b[0marr\u001b[0m\u001b[0;34m,\u001b[0m \u001b[0mvalues\u001b[0m\u001b[0;34m)\u001b[0m\u001b[0;34m,\u001b[0m \u001b[0maxis\u001b[0m\u001b[0;34m=\u001b[0m\u001b[0maxis\u001b[0m\u001b[0;34m)\u001b[0m\u001b[0;34m\u001b[0m\u001b[0;34m\u001b[0m\u001b[0m\n\u001b[0m\u001b[1;32m   4818\u001b[0m \u001b[0;34m\u001b[0m\u001b[0m\n\u001b[1;32m   4819\u001b[0m \u001b[0;34m\u001b[0m\u001b[0m\n",
      "\u001b[0;32m<__array_function__ internals>\u001b[0m in \u001b[0;36mconcatenate\u001b[0;34m(*args, **kwargs)\u001b[0m\n",
      "\u001b[0;31mValueError\u001b[0m: all the input arrays must have same number of dimensions, but the array at index 0 has 1 dimension(s) and the array at index 1 has 2 dimension(s)"
     ]
    }
   ],
   "source": [
    "theta_bins2 = [0, 0.01658065, 0.0331613]\n",
    "cen_theta_bins2 = (theta_bins[:-1]+theta_bins[1:])/2.0\n",
    "\n",
    "t_s = time.time()\n",
    "\n",
    "nside = 32\n",
    "halo_coords = np.column_stack((RA1,DEC1))\n",
    "pixels_halo = hp.ang2pix(nside,np.radians(RA1),np.radians(DEC1))\n",
    "pixels_gws = hp.ang2pix(nside,np.radians(RA2),np.radians(DEC2))\n",
    "pixels_rands = hp.ang2pix(nside,np.radians(rand_RA2),np.radians(rand_DEC2))\n",
    "m = np.zeros(hp.nside2npix(nside))\n",
    "\n",
    "\n",
    "if (np.max(pixels_halo) < np.max(pixels_gws)):\n",
    "    pixel_count = np.max(pixels_gws)\n",
    "else:\n",
    "    pixel_count = np.max(pixels_halos)\n",
    "#\n",
    "a = 0\n",
    "\n",
    "pixelated_halos = []\n",
    "pixelated_gws = []\n",
    "pixelated_rands = []\n",
    "\n",
    "print(hp.max_pixrad(nside, degrees = True))\n",
    "w_theta12_pixels = []\n",
    "for i in range(pixel_count):                    #range(pixel_count):\n",
    "    x = np.where(pixels_halo == i)\n",
    "    y = np.where(pixels_gws == i)\n",
    "    z = np.where(pixels_rands == i)\n",
    "    if np.size(x)>0:\n",
    "        pixelated_halos = np.append(pixelated_halos,x,i)\n",
    "    elif np.size(x)==0:\n",
    "        pixelated_halos = np.append(pixelated_halos,0,i)\n",
    "    if np.size(y)>0:\n",
    "        pixelated_gws = np.append(pixelated_gws,y,i)\n",
    "    elif np.size(y)==0:\n",
    "        pixelated_gws = np.append(pixelated_gws,0,i)\n",
    "    if np.size(z)>0:\n",
    "        pixelated_rands = np.append(pixelated_halos,z,i)\n",
    "    elif np.size(z)==0:\n",
    "        pixelated_rands = np.append(pixelated_halos,0,i)\n",
    "    \n",
    "    pixelated_gws.append(y)\n",
    "    pixelated_rands.append(z)\n",
    "    \n",
    "\n",
    "    \n",
    "    if np.size(x) > 0 and np.size(y) > 0 and np.size(z) > 1:\n",
    "        #calculate wtheta12 here\n",
    "        pixelated_RA1 = RA1[x]\n",
    "        pixelated_DEC1 = DEC1[x]\n",
    "        pixelated_angular_coords1 = np.column_stack((pixelated_RA1,pixelated_DEC1))            #angular coords of each galaxy per pixel\n",
    "        pixelated_RA2 = RA2[y]\n",
    "        pixelated_DEC2 = DEC2[y]\n",
    "        pixelated_angular_coords2 = np.column_stack((pixelated_RA2,pixelated_DEC2))            #angular coords of each gws per pixel\n",
    "        pixelated_rand_RA2 = rand_RA2[z]\n",
    "        pixelated_rand_DEC2 = rand_DEC2[z]\n",
    "        pixelated_rand_coords = np.column_stack((pixelated_rand_RA2,pixelated_rand_DEC2))      #angular coords of each random per pixel\n",
    "        #w_theta12_pixels.append(angular_tpcf(pixelated_angular_coords1, theta_bins2, sample2=pixelated_angular_coords2, randoms=pixelated_rand_coords, num_threads='max', do_auto=False, do_cross=True))\n",
    "        a+=1\n",
    "t_tmp = time.time() - t_s\n",
    "print('computation took {0} seconds'.format(t_tmp))\n",
    "#print((w_theta12_pixels))\n",
    "#print(pixelated_halos)"
   ]
  },
  {
   "cell_type": "raw",
   "id": "cc5dbead-1842-4371-a55a-c74e872651f1",
   "metadata": {},
   "source": [
    "make a jackknife renormalization of the the differen used pixels and iterate through to calculate w(theta) with the remaining pixels\n",
    "make sure to neglect the pixels on the edges\n",
    "\n",
    "\n",
    "\n",
    "currently have all of the objects separated into pixels\n",
    "    make an array of all of the pixels and take out the junk ones that are edge cases\n",
    "    make a jackknife resampling of that array and calculate w(theta) with the rest of the info\n",
    "    "
   ]
  },
  {
   "cell_type": "code",
   "execution_count": 31,
   "id": "9e69f9d7-24bc-40aa-a671-0abe7007aea8",
   "metadata": {},
   "outputs": [
    {
     "name": "stdout",
     "output_type": "stream",
     "text": [
      "64\n",
      "(array([ 865, 1198, 1306]),)\n"
     ]
    },
    {
     "ename": "TypeError",
     "evalue": "'list' object is not callable",
     "output_type": "error",
     "traceback": [
      "\u001b[0;31m---------------------------------------------------------------------------\u001b[0m",
      "\u001b[0;31mTypeError\u001b[0m                                 Traceback (most recent call last)",
      "\u001b[0;32m<ipython-input-31-e854a2bcc8a5>\u001b[0m in \u001b[0;36m<module>\u001b[0;34m\u001b[0m\n\u001b[1;32m      2\u001b[0m \u001b[0mprint\u001b[0m\u001b[0;34m(\u001b[0m\u001b[0mnp\u001b[0m\u001b[0;34m.\u001b[0m\u001b[0msize\u001b[0m\u001b[0;34m(\u001b[0m\u001b[0mpixel_exlude\u001b[0m\u001b[0;34m)\u001b[0m\u001b[0;34m)\u001b[0m\u001b[0;34m\u001b[0m\u001b[0;34m\u001b[0m\u001b[0m\n\u001b[1;32m      3\u001b[0m \u001b[0mprint\u001b[0m\u001b[0;34m(\u001b[0m\u001b[0mpixelated_halos\u001b[0m\u001b[0;34m[\u001b[0m\u001b[0;36m0\u001b[0m\u001b[0;34m]\u001b[0m\u001b[0;34m)\u001b[0m\u001b[0;34m\u001b[0m\u001b[0;34m\u001b[0m\u001b[0m\n\u001b[0;32m----> 4\u001b[0;31m \u001b[0mprint\u001b[0m\u001b[0;34m(\u001b[0m\u001b[0mpixelated_halos\u001b[0m\u001b[0;34m(\u001b[0m\u001b[0;34m[\u001b[0m\u001b[0;36m0\u001b[0m\u001b[0;34m]\u001b[0m\u001b[0;34m,\u001b[0m\u001b[0;34m[\u001b[0m\u001b[0;36m1\u001b[0m\u001b[0;34m]\u001b[0m\u001b[0;34m)\u001b[0m\u001b[0;34m)\u001b[0m\u001b[0;34m\u001b[0m\u001b[0;34m\u001b[0m\u001b[0m\n\u001b[0m",
      "\u001b[0;31mTypeError\u001b[0m: 'list' object is not callable"
     ]
    }
   ],
   "source": [
    "pixel_exlude=[0, 1, 2, 3, 4, 5, 6, 7, 8, 9, 10, 11, 12, 13, 14, 15, 16, 17, 18, 19, 20, 21, 22, 23, 24, 25, 26, 27, 28, 29, 30, 31, 32, 64, 97, 129, 162, 194, 227, 259, 292, 324, 357, 389, 422, 454, 487, 519, 552, 584, 617, 649, 682, 714, 747, 779, 812, 844, 877, 909, 942, 974, 1007, 1039]\n",
    "print(np.size(pixel_exlude))\n",
    "\n",
    "\n",
    "pixelated_halos[pixel_exclude],pixelated_gws[pixel_exclude],pixelated_rands[pixel_exclude] == 0\n",
    "\n",
    "resamp_pix_halo = jackknife_resampling(pixelated_halos)\n",
    "resamp_pix_gws = jackknife_resampling(pixelated_gws)\n",
    "resamp_pix_rand = jackknife_resampling(pixelated_rands)\n",
    "\n",
    "for i in np.size(resamp_pix_halo):\n",
    "    sum += w_theta(pixelated_halos[i]) - mean(w_theta(resamp_pix_halo, resamp_pix_halos, resamp_pix_rands, original theta bin))"
   ]
  },
  {
   "cell_type": "code",
   "execution_count": null,
   "id": "ab080216-d87b-46ff-b4b4-a2ec90586db3",
   "metadata": {},
   "outputs": [],
   "source": []
  }
 ],
 "metadata": {
  "kernelspec": {
   "display_name": "Python 3",
   "language": "python",
   "name": "python3"
  },
  "language_info": {
   "codemirror_mode": {
    "name": "ipython",
    "version": 3
   },
   "file_extension": ".py",
   "mimetype": "text/x-python",
   "name": "python",
   "nbconvert_exporter": "python",
   "pygments_lexer": "ipython3",
   "version": "3.8.8"
  }
 },
 "nbformat": 4,
 "nbformat_minor": 5
}
